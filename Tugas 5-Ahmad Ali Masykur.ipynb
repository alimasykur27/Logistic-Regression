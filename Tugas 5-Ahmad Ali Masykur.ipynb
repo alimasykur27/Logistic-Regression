{
 "cells": [
  {
   "cell_type": "markdown",
   "metadata": {},
   "source": [
    "# <center>Pembelajaran Mesin</center>\n",
    "## <center>Tugas 5 - Logistic Regression </center>"
   ]
  },
  {
   "cell_type": "markdown",
   "metadata": {},
   "source": [
    "Nama &nbsp;: Ahmad Ali Masykur </br>\n",
    "NIM &emsp;: 20/462176/PA/20148 </br>\n",
    "Kelas &ensp;: KOMB "
   ]
  },
  {
   "cell_type": "markdown",
   "metadata": {},
   "source": [
    "# Read data"
   ]
  },
  {
   "cell_type": "code",
   "execution_count": 10,
   "metadata": {},
   "outputs": [],
   "source": [
    "import pandas as pd\n",
    "import numpy as np\n",
    "from sklearn.model_selection import train_test_split\n",
    "from matplotlib import pyplot as plt"
   ]
  },
  {
   "cell_type": "code",
   "execution_count": 11,
   "metadata": {},
   "outputs": [],
   "source": [
    "# from google.colab import files\n",
    "# file = files.upload()"
   ]
  },
  {
   "cell_type": "markdown",
   "metadata": {},
   "source": [
    "### Ambil data setosa dan virginica dan beri label"
   ]
  },
  {
   "cell_type": "code",
   "execution_count": 12,
   "metadata": {},
   "outputs": [
    {
     "name": "stdout",
     "output_type": "stream",
     "text": [
      "Data : \n",
      "     sepal_length  petal_length   \n",
      "0            5.1           1.4  0\n",
      "1            4.9           1.4  0\n",
      "2            4.7           1.3  0\n",
      "3            4.6           1.5  0\n",
      "4            5.0           1.4  0\n",
      "..           ...           ... ..\n",
      "95           5.7           4.2  1\n",
      "96           5.7           4.2  1\n",
      "97           6.2           4.3  1\n",
      "98           5.1           3.0  1\n",
      "99           5.7           4.1  1\n",
      "\n",
      "[100 rows x 3 columns]\n"
     ]
    }
   ],
   "source": [
    "iris = pd.read_csv(\"./iris.csv\")\n",
    "setosa = iris[iris.species == 'setosa'][[\"sepal_length\", \"petal_length\"]]\n",
    "setosa[\"\"] = 0\n",
    "versicolor = iris[iris.species == 'versicolor'][[\"sepal_length\", \"petal_length\"]]\n",
    "versicolor[\"\"] = 1\n",
    "data = pd.concat([setosa, versicolor])\n",
    "\n",
    "print(\"Data : \\n\", data)"
   ]
  },
  {
   "cell_type": "code",
   "execution_count": 13,
   "metadata": {},
   "outputs": [
    {
     "name": "stdout",
     "output_type": "stream",
     "text": [
      "    sepal_length  petal_length\n",
      "0            5.1           1.4\n",
      "1            4.9           1.4\n",
      "2            4.7           1.3\n",
      "3            4.6           1.5\n",
      "4            5.0           1.4\n",
      "..           ...           ...\n",
      "95           5.7           4.2\n",
      "96           5.7           4.2\n",
      "97           6.2           4.3\n",
      "98           5.1           3.0\n",
      "99           5.7           4.1\n",
      "\n",
      "[100 rows x 2 columns]\n",
      "0     0\n",
      "1     0\n",
      "2     0\n",
      "3     0\n",
      "4     0\n",
      "     ..\n",
      "95    1\n",
      "96    1\n",
      "97    1\n",
      "98    1\n",
      "99    1\n",
      "Name: , Length: 100, dtype: int64\n"
     ]
    }
   ],
   "source": [
    "# x = feature values, semua kolom kecuali kolom terakhir\n",
    "xdata = data.iloc[:, :-1]\n",
    "print(xdata)\n",
    "\n",
    "# y = feature values, kolom terakhir\n",
    "ydata = data.iloc[:, -1]\n",
    "print(ydata)"
   ]
  },
  {
   "cell_type": "markdown",
   "metadata": {},
   "source": [
    "# Split data\n",
    "### Split data menjadi data training dan test dengan perbandingan 80:20"
   ]
  },
  {
   "cell_type": "code",
   "execution_count": 14,
   "metadata": {},
   "outputs": [
    {
     "name": "stdout",
     "output_type": "stream",
     "text": [
      "x train :\n",
      "     sepal_length  petal_length\n",
      "83           6.0           5.1\n",
      "6            4.6           1.4\n",
      "79           5.7           3.5\n",
      "24           4.8           1.9\n",
      "9            4.9           1.5\n",
      "..           ...           ...\n",
      "19           5.1           1.5\n",
      "35           5.0           1.2\n",
      "78           6.0           4.5\n",
      "42           4.4           1.3\n",
      "48           5.3           1.5\n",
      "\n",
      "[80 rows x 2 columns]\n",
      "x test :\n",
      "     sepal_length  petal_length\n",
      "63           6.1           4.7\n",
      "70           5.9           4.8\n",
      "5            5.4           1.7\n",
      "87           6.3           4.4\n",
      "75           6.6           4.4\n",
      "1            4.9           1.4\n",
      "32           5.2           1.5\n",
      "69           5.6           3.9\n",
      "38           4.4           1.3\n",
      "94           5.6           4.2\n",
      "26           5.0           1.6\n",
      "50           7.0           4.7\n",
      "13           4.3           1.1\n",
      "47           4.6           1.4\n",
      "58           6.6           4.6\n",
      "29           4.7           1.6\n",
      "64           5.6           3.6\n",
      "49           5.0           1.4\n",
      "92           5.8           4.0\n",
      "18           5.7           1.7\n",
      "y train :\n",
      " 83    1\n",
      "6     0\n",
      "79    1\n",
      "24    0\n",
      "9     0\n",
      "     ..\n",
      "19    0\n",
      "35    0\n",
      "78    1\n",
      "42    0\n",
      "48    0\n",
      "Name: , Length: 80, dtype: int64\n",
      "y test :\n",
      " 63    1\n",
      "70    1\n",
      "5     0\n",
      "87    1\n",
      "75    1\n",
      "1     0\n",
      "32    0\n",
      "69    1\n",
      "38    0\n",
      "94    1\n",
      "26    0\n",
      "50    1\n",
      "13    0\n",
      "47    0\n",
      "58    1\n",
      "29    0\n",
      "64    1\n",
      "49    0\n",
      "92    1\n",
      "18    0\n",
      "Name: , dtype: int64\n"
     ]
    }
   ],
   "source": [
    "x_train, x_test, y_train, y_test = train_test_split(xdata, ydata, test_size=0.2)\n",
    "\n",
    "print(\"x train :\\n\", x_train)\n",
    "print(\"x test :\\n\", x_test)\n",
    "print(\"y train :\\n\", y_train)\n",
    "print(\"y test :\\n\", y_test)"
   ]
  },
  {
   "cell_type": "markdown",
   "metadata": {},
   "source": [
    "## Visualize data"
   ]
  },
  {
   "cell_type": "code",
   "execution_count": 15,
   "metadata": {},
   "outputs": [
    {
     "data": {
      "image/png": "[encoded data removed]",
      "text/plain": [
       "<Figure size 864x864 with 1 Axes>"
      ]
     },
     "metadata": {
      "needs_background": "light"
     },
     "output_type": "display_data"
    }
   ],
   "source": [
    "plt.figure(figsize=(12, 12))\n",
    "plt.scatter(x_train.iloc[:, 0], x_train.iloc[:, 1], c=y_train.ravel(), s=60)\n",
    "plt.xlabel(\"Sepal_length\")\n",
    "plt.ylabel(\"Petal length\")\n",
    "plt.show()"
   ]
  },
  {
   "cell_type": "markdown",
   "metadata": {},
   "source": [
    "# Define Function"
   ]
  },
  {
   "cell_type": "code",
   "execution_count": 16,
   "metadata": {},
   "outputs": [],
   "source": [
    "class LogisticRegression:\n",
    "    def __init__(self, learning_rate=0.001, iter=100):\n",
    "        self.learning_rate = learning_rate\n",
    "        self.iter = iter\n",
    "    \n",
    "    #initialize\n",
    "    def initialize(self, x_):\n",
    "        theta = np.zeros((np.shape(x_)[1] + 1))\n",
    "        x = np.concatenate((np.ones((np.shape(x_)[0], 1)), x_), axis=1)\n",
    "        return theta, x\n",
    "    \n",
    "    # sigmoid function\n",
    "    def sigmoid(self, z_):\n",
    "        sig = 1 / (1 + np.exp(-z_))\n",
    "        return sig\n",
    "\n",
    "    #calculate h\n",
    "    def calc_h(self, x_, theta):\n",
    "        z = np.dot(x_, theta)\n",
    "        h = self.sigmoid(z)\n",
    "        return h    \n",
    "\n",
    "    # Cost function\n",
    "    def cost(self, x_:pd.DataFrame, y_:pd.DataFrame, theta):\n",
    "        h = self.calc_h(x_, theta)\n",
    "        cost0 = y_ * np.log(h)\n",
    "        cost1 = (1 - y_) * np.log(1 - h)\n",
    "        total_cost = -((cost1 + cost0)).mean()\n",
    "        return total_cost\n",
    "    \n",
    "    # Gradient Descent algorithm \n",
    "    def gradient(self, x_:pd.DataFrame, y_:pd.DataFrame, theta):\n",
    "        h = self.calc_h(x_, theta)\n",
    "        m = y_.size\n",
    "        gradient = np.dot(x_.T, (h - y_)) / m\n",
    "        return gradient\n",
    "    \n",
    "    # Training data      \n",
    "    def fit(self, x_, y_):\n",
    "        theta, x = self.initialize(x_)\n",
    "        \n",
    "        cost_list = np.zeros((self.iter),)\n",
    "        for i in range(self.iter):\n",
    "            gradient = self.gradient(x, y_, theta)\n",
    "            theta = theta - self.learning_rate * gradient\n",
    "            cost_list[i] = self.cost(x, y_, theta)\n",
    "            \n",
    "        self.theta = theta\n",
    "        return cost_list\n",
    "    \n",
    "    def predict(self, x_):\n",
    "        z = np.dot(x_, self.theta)\n",
    "        h = self.sigmoid(z)"
   ]
  },
  {
   "cell_type": "code",
   "execution_count": 17,
   "metadata": {},
   "outputs": [],
   "source": [
    "def F1_score(y, y_hat):\n",
    "    tp, tn, fp, fn = 0, 0, 0, 0\n",
    "    for i in range(len(y)):\n",
    "        if y[i] == 1 and y_hat[i] == 1:\n",
    "            tp += 1\n",
    "        elif y[i] == 1 and y_hat[i] == 0:\n",
    "            fn += 1\n",
    "        elif y[i] == 0 and y_hat[i] == 1:\n",
    "            fp += 1\n",
    "        elif y[i] == 0 and y_hat[i] == 0:\n",
    "            tn += 1\n",
    "    precision = tp/(tp+fp)\n",
    "    recall = tp/(tp+fn)\n",
    "    f1_score = 2*precision*recall/(precision+recall)\n",
    "    return f1_score"
   ]
  },
  {
   "cell_type": "markdown",
   "metadata": {},
   "source": [
    "# Train Data"
   ]
  },
  {
   "cell_type": "code",
   "execution_count": 18,
   "metadata": {},
   "outputs": [
    {
     "name": "stdout",
     "output_type": "stream",
     "text": [
      "[[1.  6.  5.1]\n",
      " [1.  4.6 1.4]\n",
      " [1.  5.7 3.5]\n",
      " [1.  4.8 1.9]\n",
      " [1.  4.9 1.5]\n",
      " [1.  6.1 4.7]\n",
      " [1.  5.  1.6]\n",
      " [1.  6.  4. ]\n",
      " [1.  5.7 4.2]\n",
      " [1.  4.6 1. ]\n",
      " [1.  5.5 1.4]\n",
      " [1.  4.8 1.4]\n",
      " [1.  5.4 1.7]\n",
      " [1.  5.  3.5]\n",
      " [1.  5.7 4.1]\n",
      " [1.  5.1 1.5]\n",
      " [1.  6.9 4.9]\n",
      " [1.  5.  1.3]\n",
      " [1.  6.1 4.6]\n",
      " [1.  4.4 1.4]\n",
      " [1.  5.5 4. ]\n",
      " [1.  5.  1.5]\n",
      " [1.  5.1 3. ]\n",
      " [1.  5.4 4.5]\n",
      " [1.  5.5 4. ]\n",
      " [1.  5.5 3.8]\n",
      " [1.  5.  1.4]\n",
      " [1.  6.5 4.6]\n",
      " [1.  5.4 1.5]\n",
      " [1.  6.2 4.5]\n",
      " [1.  4.9 3.3]\n",
      " [1.  5.  3.3]\n",
      " [1.  5.5 4.4]\n",
      " [1.  5.1 1.7]\n",
      " [1.  5.6 4.5]\n",
      " [1.  6.4 4.3]\n",
      " [1.  5.  1.6]\n",
      " [1.  6.7 5. ]\n",
      " [1.  4.7 1.3]\n",
      " [1.  5.9 4.2]\n",
      " [1.  5.7 1.5]\n",
      " [1.  5.4 1.3]\n",
      " [1.  4.9 1.5]\n",
      " [1.  6.3 4.7]\n",
      " [1.  5.2 1.4]\n",
      " [1.  4.8 1.6]\n",
      " [1.  5.8 1.2]\n",
      " [1.  6.7 4.7]\n",
      " [1.  4.9 1.5]\n",
      " [1.  5.7 4.5]\n",
      " [1.  4.5 1.3]\n",
      " [1.  5.1 1.5]\n",
      " [1.  4.8 1.6]\n",
      " [1.  5.7 4.2]\n",
      " [1.  5.1 1.4]\n",
      " [1.  6.7 4.4]\n",
      " [1.  5.2 3.9]\n",
      " [1.  5.5 1.3]\n",
      " [1.  5.1 1.6]\n",
      " [1.  6.3 4.9]\n",
      " [1.  5.5 3.7]\n",
      " [1.  5.4 1.5]\n",
      " [1.  5.2 1.5]\n",
      " [1.  6.2 4.3]\n",
      " [1.  6.4 4.5]\n",
      " [1.  5.1 1.4]\n",
      " [1.  5.8 4.1]\n",
      " [1.  6.8 4.8]\n",
      " [1.  4.8 1.4]\n",
      " [1.  6.1 4. ]\n",
      " [1.  5.1 1.9]\n",
      " [1.  5.6 4.1]\n",
      " [1.  6.  4.5]\n",
      " [1.  4.6 1.5]\n",
      " [1.  5.8 3.9]\n",
      " [1.  5.1 1.5]\n",
      " [1.  5.  1.2]\n",
      " [1.  6.  4.5]\n",
      " [1.  4.4 1.3]\n",
      " [1.  5.3 1.5]]\n",
      "[0. 0. 0.]\n",
      "[0.5 0.5 0.5 0.5 0.5 0.5 0.5 0.5 0.5 0.5 0.5 0.5 0.5 0.5 0.5 0.5 0.5 0.5\n",
      " 0.5 0.5 0.5 0.5 0.5 0.5 0.5 0.5 0.5 0.5 0.5 0.5 0.5 0.5 0.5 0.5 0.5 0.5\n",
      " 0.5 0.5 0.5 0.5 0.5 0.5 0.5 0.5 0.5 0.5 0.5 0.5 0.5 0.5 0.5 0.5 0.5 0.5\n",
      " 0.5 0.5 0.5 0.5 0.5 0.5 0.5 0.5 0.5 0.5 0.5 0.5 0.5 0.5 0.5 0.5 0.5 0.5\n",
      " 0.5 0.5 0.5 0.5 0.5 0.5 0.5 0.5]\n",
      "83    1\n",
      "6     0\n",
      "79    1\n",
      "24    0\n",
      "9     0\n",
      "     ..\n",
      "19    0\n",
      "35    0\n",
      "78    1\n",
      "42    0\n",
      "48    0\n",
      "Name: , Length: 80, dtype: int64\n"
     ]
    }
   ],
   "source": [
    "logreg = LogisticRegression(learning_rate=0.001, iter=100)\n",
    "theta, x = logreg.initialize(x_train)\n",
    "y_train = y_train.T\n",
    "h = logreg.calc_h(x, theta)\n",
    "\n",
    "print(x)\n",
    "print(theta)\n",
    "print(h)\n",
    "print(y_train)"
   ]
  },
  {
   "cell_type": "code",
   "execution_count": 19,
   "metadata": {},
   "outputs": [
    {
     "data": {
      "text/plain": [
       "array([0.6926188 , 0.69209597, 0.6915786 , 0.69106657, 0.69055978,\n",
       "       0.69005813, 0.68956152, 0.68906985, 0.68858302, 0.68810094,\n",
       "       0.68762351, 0.68715066, 0.68668228, 0.68621828, 0.6857586 ,\n",
       "       0.68530313, 0.6848518 , 0.68440453, 0.68396124, 0.68352185,\n",
       "       0.68308629, 0.68265447, 0.68222634, 0.68180182, 0.68138083,\n",
       "       0.68096331, 0.6805492 , 0.68013842, 0.67973091, 0.67932661,\n",
       "       0.67892546, 0.6785274 , 0.67813236, 0.67774029, 0.67735114,\n",
       "       0.67696484, 0.67658134, 0.67620059, 0.67582253, 0.67544712,\n",
       "       0.6750743 , 0.67470402, 0.67433624, 0.67397091, 0.67360797,\n",
       "       0.6732474 , 0.67288913, 0.67253313, 0.67217935, 0.67182776,\n",
       "       0.6714783 , 0.67113095, 0.67078566, 0.67044238, 0.6701011 ,\n",
       "       0.66976176, 0.66942433, 0.66908877, 0.66875505, 0.66842314,\n",
       "       0.668093  , 0.6677646 , 0.66743791, 0.66711289, 0.66678951,\n",
       "       0.66646775, 0.66614757, 0.66582895, 0.66551185, 0.66519625,\n",
       "       0.66488212, 0.66456943, 0.66425816, 0.66394829, 0.66363978,\n",
       "       0.66333261, 0.66302676, 0.6627222 , 0.66241891, 0.66211687,\n",
       "       0.66181606, 0.66151645, 0.66121802, 0.66092075, 0.66062462,\n",
       "       0.66032961, 0.6600357 , 0.65974287, 0.6594511 , 0.65916038,\n",
       "       0.65887068, 0.65858199, 0.65829428, 0.65800755, 0.65772177,\n",
       "       0.65743694, 0.65715302, 0.65687002, 0.6565879 , 0.65630666])"
      ]
     },
     "execution_count": 19,
     "metadata": {},
     "output_type": "execute_result"
    }
   ],
   "source": [
    "cost_list = logreg.fit(x_train, y_train)\n",
    "cost_list"
   ]
  },
  {
   "cell_type": "code",
   "execution_count": 20,
   "metadata": {},
   "outputs": [
    {
     "data": {
      "text/plain": [
       "[<matplotlib.lines.Line2D at 0x7f8fbd7bad90>]"
      ]
     },
     "execution_count": 20,
     "metadata": {},
     "output_type": "execute_result"
    },
    {
     "data": {
      "image/png": "[encoded data removed]",
      "text/plain": [
       "<Figure size 432x288 with 1 Axes>"
      ]
     },
     "metadata": {
      "needs_background": "light"
     },
     "output_type": "display_data"
    }
   ],
   "source": [
    "plt.plot(range(100), cost_list)"
   ]
  },
  {
   "cell_type": "markdown",
   "metadata": {},
   "source": [
    "# Plot Decision boundary"
   ]
  },
  {
   "cell_type": "code",
   "execution_count": 31,
   "metadata": {},
   "outputs": [
    {
     "data": {
      "text/plain": [
       "(0.5, 5.6)"
      ]
     },
     "execution_count": 31,
     "metadata": {},
     "output_type": "execute_result"
    },
    {
     "data": {
      "image/png": "[encoded data removed]",
      "text/plain": [
       "<Figure size 864x720 with 1 Axes>"
      ]
     },
     "metadata": {
      "needs_background": "light"
     },
     "output_type": "display_data"
    }
   ],
   "source": [
    "plt.figure(figsize=(12, 10))\n",
    "\n",
    "# define 2d grid\n",
    "x1_min, x1_max = x_train.iloc[:, 0].min() - 0.5, x_train.iloc[:, 0].max() + 0.5,\n",
    "x2_min, x2_max = x_train.iloc[:, 1].min() - 0.5, x_train.iloc[:, 1].max() + 0.5,\n",
    "xx1, xx2 = np.meshgrid(np.linspace(x1_min, x1_max),\n",
    "                       np.linspace(x2_min, x2_max))\n",
    "grid = np.c_[xx1.ravel(), xx2.ravel()]\n",
    "\n",
    "# make predictions on the grid\n",
    "theta, grid = logreg.initialize(grid)\n",
    "probs = logreg.calc_h(grid, logreg.theta)\n",
    "probs = probs.reshape(xx1.shape)\n",
    "\n",
    "# plot contours\n",
    "ax = plt.gca()\n",
    "plt.contourf(xx1, xx2, probs, levels=1000, cmap=plt.cm.Spectral, alpha=0.8)\n",
    "plt.contour(xx1, xx2, probs, level=1, linewidths=2, colors='black')  # decision boundary at 0.5\n",
    "plt.scatter(x_train.iloc[:, 0], x_train.iloc[:, 1], c=y_train.ravel(), s=60)\n",
    "plt.plot(-0.8, 0.8, 'bx', markersize=20, markeredgewidth=2)\n",
    "\n",
    "ax.set_xlim([x1_min, x1_max])\n",
    "ax.set_ylim([x2_min, x2_max])"
   ]
  },
  {
   "cell_type": "markdown",
   "metadata": {},
   "source": [
    "# Testing data"
   ]
  },
  {
   "cell_type": "code",
   "execution_count": 24,
   "metadata": {},
   "outputs": [
    {
     "data": {
      "text/plain": [
       "0.5521985637528248"
      ]
     },
     "execution_count": 24,
     "metadata": {},
     "output_type": "execute_result"
    }
   ],
   "source": [
    "probs.mean()"
   ]
  }
 ],
 "metadata": {
  "interpreter": {
   "hash": "f9f85f796d01129d0dd105a088854619f454435301f6ffec2fea96ecbd9be4ac"
  },
  "kernelspec": {
   "display_name": "Python 3.9.12 64-bit",
   "language": "python",
   "name": "python3"
  },
  "language_info": {
   "codemirror_mode": {
    "name": "ipython",
    "version": 3
   },
   "file_extension": ".py",
   "mimetype": "text/x-python",
   "name": "python",
   "nbconvert_exporter": "python",
   "pygments_lexer": "ipython3",
   "version": "3.9.12"
  },
  "orig_nbformat": 4
 },
 "nbformat": 4,
 "nbformat_minor": 2
}
